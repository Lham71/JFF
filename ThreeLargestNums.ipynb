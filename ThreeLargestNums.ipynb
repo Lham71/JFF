{
 "cells": [
  {
   "cell_type": "markdown",
   "metadata": {},
   "source": [
    "### finding three largest numbers in an array\n",
    "\n",
    "time complexity: o(n)\n",
    "space complexity: o(1)"
   ]
  },
  {
   "cell_type": "code",
   "execution_count": 1,
   "metadata": {},
   "outputs": [],
   "source": [
    "def findThreeLargestNumbers(array):\n",
    "    ThreeNum = [None, None, None]\n",
    "    \n",
    "    for num in array:\n",
    "        if ThreeNum[2] == None or num > ThreeNum[2]:\n",
    "            ThreeNum = UpdateAndShift(ThreeNum, 2, num)\n",
    "            \n",
    "        elif ThreeNum[1] == None or num > ThreeNum[1]:\n",
    "            ThreeNum = UpdateAndShift(ThreeNum, 1, num)\n",
    "            \n",
    "        elif ThreeNum[0] == None or num > ThreeNum[0]:\n",
    "            ThreeNum = UpdateAndShift(ThreeNum, 0, num)\n",
    "    return ThreeNum\n",
    "\n",
    "def UpdateAndShift(array, indx, num):\n",
    "    for i in range(indx+1):\n",
    "        if i==indx:\n",
    "            array[i] = num\n",
    "        else:\n",
    "            array[i] = array[i+1]\n",
    "            \n",
    "    return array\n",
    "            "
   ]
  },
  {
   "cell_type": "code",
   "execution_count": 2,
   "metadata": {},
   "outputs": [
    {
     "data": {
      "text/plain": [
       "[11, 11, 20]"
      ]
     },
     "execution_count": 2,
     "metadata": {},
     "output_type": "execute_result"
    }
   ],
   "source": [
    "arr = [-1, 0, 3, -2, 20, 11, 10, 1, 11]\n",
    "findThreeLargestNumbers(arr)"
   ]
  },
  {
   "cell_type": "code",
   "execution_count": null,
   "metadata": {},
   "outputs": [],
   "source": []
  }
 ],
 "metadata": {
  "kernelspec": {
   "display_name": "Python 3",
   "language": "python",
   "name": "python3"
  },
  "language_info": {
   "codemirror_mode": {
    "name": "ipython",
    "version": 3
   },
   "file_extension": ".py",
   "mimetype": "text/x-python",
   "name": "python",
   "nbconvert_exporter": "python",
   "pygments_lexer": "ipython3",
   "version": "3.6.1"
  }
 },
 "nbformat": 4,
 "nbformat_minor": 2
}
