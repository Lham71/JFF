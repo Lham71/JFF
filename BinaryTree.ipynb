{
 "cells": [
  {
   "cell_type": "code",
   "execution_count": 1,
   "metadata": {},
   "outputs": [],
   "source": [
    "class BinaryTreeNode:\n",
    "    def __init__(self, value):\n",
    "        self.value = value\n",
    "        self.right = None\n",
    "        self.left = None"
   ]
  },
  {
   "cell_type": "code",
   "execution_count": 2,
   "metadata": {},
   "outputs": [],
   "source": [
    "# using recursion\n",
    "\n",
    "def preorder(node):\n",
    "    visit_list = list()\n",
    "    \n",
    "    def traverse(node):\n",
    "        if node:\n",
    "            \n",
    "            visit_list.append(node.value)\n",
    "            traverse(node.left)\n",
    "            traverse(node.right)\n",
    "    traverse(node)\n",
    "        \n",
    "    return visit_list\n",
    "\n",
    "def inorder(node):\n",
    "    visit_list = list()\n",
    "    \n",
    "    def traverse(node):\n",
    "        if node:\n",
    "            \n",
    "            traverse(node.left)\n",
    "            visit_list.append(node.value)\n",
    "            traverse(node.right)\n",
    "    traverse(node)\n",
    "        \n",
    "    return visit_list\n",
    "\n",
    "def postorder(node):\n",
    "    visit_list = list()\n",
    "    \n",
    "    def traverse(node):\n",
    "        if node:\n",
    "            \n",
    "            traverse(node.left)\n",
    "            traverse(node.right)\n",
    "            visit_list.append(node.value)\n",
    "    traverse(node)\n",
    "        \n",
    "    return visit_list"
   ]
  },
  {
   "cell_type": "code",
   "execution_count": 3,
   "metadata": {},
   "outputs": [],
   "source": [
    "# converting an array (level-order) to binaryTree\n",
    "from queue import Queue\n",
    "\n",
    "def arr_to_binaryTree(arr):\n",
    "    \n",
    "    index = 0\n",
    "    length = len(arr)\n",
    "    \n",
    "    if length <= 0 or arr[index] ==0:\n",
    "        return None\n",
    "    \n",
    "    queue = Queue()\n",
    "    root = BinaryTreeNode(arr[index])\n",
    "    index += 1\n",
    "    queue.put(root)\n",
    "    \n",
    "    while not queue.empty():\n",
    "        current_node = queue.get()\n",
    "        left_child = arr[index]\n",
    "        index += 1\n",
    "        \n",
    "        if left_child is not None:\n",
    "            left_node = BinaryTreeNode(left_child)\n",
    "            current_node.left = left_node\n",
    "            queue.put(left_node)\n",
    "            \n",
    "        right_child = arr[index]\n",
    "        index += 1\n",
    "        \n",
    "        if right_child:\n",
    "            right_node = BinaryTreeNode(right_child)\n",
    "            current_node.right = right_node\n",
    "            queue.put(right_node)\n",
    "            \n",
    "    return root\n",
    "\n"
   ]
  },
  {
   "cell_type": "code",
   "execution_count": 4,
   "metadata": {},
   "outputs": [
    {
     "data": {
      "text/plain": [
       "['A', 'B', 'D', 'C', 'E']"
      ]
     },
     "execution_count": 4,
     "metadata": {},
     "output_type": "execute_result"
    }
   ],
   "source": [
    "arr = ['A', 'B', 'C', 'D', None, 'E', None, None, None, None, None]\n",
    "\n",
    "node = arr_to_binaryTree(arr)\n",
    "\n",
    "preorder(node)\n"
   ]
  },
  {
   "cell_type": "code",
   "execution_count": null,
   "metadata": {},
   "outputs": [],
   "source": []
  }
 ],
 "metadata": {
  "kernelspec": {
   "display_name": "Python 3",
   "language": "python",
   "name": "python3"
  },
  "language_info": {
   "codemirror_mode": {
    "name": "ipython",
    "version": 3
   },
   "file_extension": ".py",
   "mimetype": "text/x-python",
   "name": "python",
   "nbconvert_exporter": "python",
   "pygments_lexer": "ipython3",
   "version": "3.6.1"
  }
 },
 "nbformat": 4,
 "nbformat_minor": 2
}
