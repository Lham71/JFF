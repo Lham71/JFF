{
 "cells": [
  {
   "cell_type": "markdown",
   "metadata": {},
   "source": [
    "### merge sort\n",
    "\n",
    "time complexity: o(nlogn)\n",
    "    \n",
    "space complexity: o(logn)"
   ]
  },
  {
   "cell_type": "code",
   "execution_count": 1,
   "metadata": {},
   "outputs": [],
   "source": [
    "def merge_sort(arr):\n",
    "    \n",
    "    if len(arr) <= 1:\n",
    "        return arr\n",
    "    \n",
    "    M = len(arr)//2\n",
    "    left = merge_sort(arr[:M])\n",
    "    right = merge_sort(arr[M:])\n",
    "    \n",
    "    return merged(left, right)\n",
    "\n",
    "def merged(left, right):\n",
    "    \n",
    "    merged = []\n",
    "    L, R = 0, 0\n",
    "    \n",
    "    while L < len(left) and R < len(right):\n",
    "        \n",
    "        if left[L] <= right[R]:\n",
    "            merged.append(left[L])\n",
    "            L += 1\n",
    "            \n",
    "        else:\n",
    "            merged.append(right[R])\n",
    "            R += 1\n",
    "            \n",
    "    merged += left[L:]\n",
    "    merged += right[R:]\n",
    "    \n",
    "    return merged\n",
    "        \n",
    "    \n",
    "    "
   ]
  },
  {
   "cell_type": "code",
   "execution_count": 4,
   "metadata": {},
   "outputs": [
    {
     "data": {
      "text/plain": [
       "[-2, -1, 0, 0, 1, 2, 4, 9]"
      ]
     },
     "execution_count": 4,
     "metadata": {},
     "output_type": "execute_result"
    }
   ],
   "source": [
    "arr = [2, 1, -1, 4, 9, 0, 0, -2]\n",
    "merge_sort(arr)"
   ]
  },
  {
   "cell_type": "code",
   "execution_count": null,
   "metadata": {},
   "outputs": [],
   "source": []
  }
 ],
 "metadata": {
  "kernelspec": {
   "display_name": "Python 3",
   "language": "python",
   "name": "python3"
  },
  "language_info": {
   "codemirror_mode": {
    "name": "ipython",
    "version": 3
   },
   "file_extension": ".py",
   "mimetype": "text/x-python",
   "name": "python",
   "nbconvert_exporter": "python",
   "pygments_lexer": "ipython3",
   "version": "3.6.1"
  }
 },
 "nbformat": 4,
 "nbformat_minor": 2
}
